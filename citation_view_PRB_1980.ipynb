{
 "cells": [
  {
   "cell_type": "markdown",
   "metadata": {},
   "source": [
    "### 1. データを準備"
   ]
  },
  {
   "cell_type": "code",
   "execution_count": 1,
   "metadata": {},
   "outputs": [],
   "source": [
    "import glob\n",
    "import pandas as pd\n",
    "import json\n",
    "from datetime import datetime as dt"
   ]
  },
  {
   "cell_type": "markdown",
   "metadata": {},
   "source": [
    "### 引用ペアデータ(データ①)"
   ]
  },
  {
   "cell_type": "code",
   "execution_count": 3,
   "metadata": {
    "scrolled": true
   },
   "outputs": [
    {
     "data": {
      "text/html": [
       "<div>\n",
       "<style scoped>\n",
       "    .dataframe tbody tr th:only-of-type {\n",
       "        vertical-align: middle;\n",
       "    }\n",
       "\n",
       "    .dataframe tbody tr th {\n",
       "        vertical-align: top;\n",
       "    }\n",
       "\n",
       "    .dataframe thead th {\n",
       "        text-align: right;\n",
       "    }\n",
       "</style>\n",
       "<table border=\"1\" class=\"dataframe\">\n",
       "  <thead>\n",
       "    <tr style=\"text-align: right;\">\n",
       "      <th></th>\n",
       "      <th>citing_doi</th>\n",
       "      <th>cited_doi</th>\n",
       "    </tr>\n",
       "  </thead>\n",
       "  <tbody>\n",
       "    <tr>\n",
       "      <th>0</th>\n",
       "      <td>10.1103/PhysRevSeriesI.11.215</td>\n",
       "      <td>10.1103/PhysRevSeriesI.1.1</td>\n",
       "    </tr>\n",
       "    <tr>\n",
       "      <th>1</th>\n",
       "      <td>10.1103/PhysRevSeriesI.12.121</td>\n",
       "      <td>10.1103/PhysRevSeriesI.1.166</td>\n",
       "    </tr>\n",
       "    <tr>\n",
       "      <th>2</th>\n",
       "      <td>10.1103/PhysRevSeriesI.7.93</td>\n",
       "      <td>10.1103/PhysRevSeriesI.1.166</td>\n",
       "    </tr>\n",
       "    <tr>\n",
       "      <th>3</th>\n",
       "      <td>10.1103/PhysRevSeriesI.16.267</td>\n",
       "      <td>10.1103/PhysRevSeriesI.2.35</td>\n",
       "    </tr>\n",
       "    <tr>\n",
       "      <th>4</th>\n",
       "      <td>10.1103/PhysRevSeriesI.17.65</td>\n",
       "      <td>10.1103/PhysRevSeriesI.2.112</td>\n",
       "    </tr>\n",
       "  </tbody>\n",
       "</table>\n",
       "</div>"
      ],
      "text/plain": [
       "                      citing_doi                     cited_doi\n",
       "0  10.1103/PhysRevSeriesI.11.215    10.1103/PhysRevSeriesI.1.1\n",
       "1  10.1103/PhysRevSeriesI.12.121  10.1103/PhysRevSeriesI.1.166\n",
       "2    10.1103/PhysRevSeriesI.7.93  10.1103/PhysRevSeriesI.1.166\n",
       "3  10.1103/PhysRevSeriesI.16.267   10.1103/PhysRevSeriesI.2.35\n",
       "4   10.1103/PhysRevSeriesI.17.65  10.1103/PhysRevSeriesI.2.112"
      ]
     },
     "execution_count": 3,
     "metadata": {},
     "output_type": "execute_result"
    }
   ],
   "source": [
    "#論文のデータ①を見る\n",
    "df_citation=pd.read_csv(\"aps_data/aps-dataset-citations-2020.csv\")\n",
    "df_citation.head()"
   ]
  },
  {
   "cell_type": "markdown",
   "metadata": {},
   "source": [
    "### 論文詳細データ(データ②)"
   ]
  },
  {
   "cell_type": "code",
   "execution_count": 4,
   "metadata": {
    "scrolled": true
   },
   "outputs": [
    {
     "data": {
      "text/plain": [
       "'10.1103/PhysRevSeriesI.11.215'"
      ]
     },
     "execution_count": 4,
     "metadata": {},
     "output_type": "execute_result"
    }
   ],
   "source": [
    "#論文のデータ②の1つのファイルを見る\n",
    "#issue:号 volume:巻\n",
    "json_open = open(\"aps_data/aps-dataset-metadata-2020/PRI/11/PhysRevSeriesI.11.215.json\", \"r\",encoding=\"utf-8\")\n",
    "json_load = json.load(json_open)\n",
    "json_load[\"id\"]"
   ]
  },
  {
   "cell_type": "markdown",
   "metadata": {},
   "source": [
    "### すべての論文とその投稿年を表すデータフレームを新たに作成(データ③)"
   ]
  },
  {
   "cell_type": "code",
   "execution_count": 5,
   "metadata": {},
   "outputs": [],
   "source": [
    "id_lis=[]#idリスト\n",
    "date_lis=[]#投稿年リスト\n",
    "\n",
    "folder_journal = glob.glob(\"aps_data/aps-dataset-metadata-2020/*\")#metaすべてのフォルダリスト\n",
    "\n",
    "for journal in folder_journal:\n",
    "    folder_issue=glob.glob(journal+\"/*\")\n",
    "    \n",
    "    for issue in folder_issue:\n",
    "        file_json=glob.glob(issue+\"/*\")\n",
    "        \n",
    "        for file in file_json:\n",
    "            json_open = open(file, \"r\",encoding=\"utf-8\")\n",
    "            json_load = json.load(json_open)\n",
    "            each_id=json_load[\"id\"]\n",
    "            each_date=dt.strptime(json_load[\"date\"], '%Y-%m-%d')\n",
    "            if dt(1980, 1, 1) <= each_date <=  dt(2020, 12, 31):\n",
    "                id_lis.append(each_id)\n",
    "                date_lis.append(each_date.strftime(\"%Y-%m-%d\"))\n",
    "                \n",
    "df_data3=pd.DataFrame(list(zip(id_lis,date_lis)), columns=[\"id\",\"year\"])\n",
    "df_data3.to_csv(\"aps-id-year.csv\")"
   ]
  },
  {
   "cell_type": "code",
   "execution_count": 6,
   "metadata": {},
   "outputs": [
    {
     "data": {
      "text/html": [
       "<div>\n",
       "<style scoped>\n",
       "    .dataframe tbody tr th:only-of-type {\n",
       "        vertical-align: middle;\n",
       "    }\n",
       "\n",
       "    .dataframe tbody tr th {\n",
       "        vertical-align: top;\n",
       "    }\n",
       "\n",
       "    .dataframe thead th {\n",
       "        text-align: right;\n",
       "    }\n",
       "</style>\n",
       "<table border=\"1\" class=\"dataframe\">\n",
       "  <thead>\n",
       "    <tr style=\"text-align: right;\">\n",
       "      <th></th>\n",
       "      <th>id</th>\n",
       "      <th>year</th>\n",
       "    </tr>\n",
       "  </thead>\n",
       "  <tbody>\n",
       "    <tr>\n",
       "      <th>0</th>\n",
       "      <td>10.1103/PhysRevA.100.010101</td>\n",
       "      <td>2019-07-11</td>\n",
       "    </tr>\n",
       "    <tr>\n",
       "      <th>1</th>\n",
       "      <td>10.1103/PhysRevA.100.010102</td>\n",
       "      <td>2019-07-26</td>\n",
       "    </tr>\n",
       "    <tr>\n",
       "      <th>2</th>\n",
       "      <td>10.1103/PhysRevA.100.010301</td>\n",
       "      <td>2019-07-22</td>\n",
       "    </tr>\n",
       "    <tr>\n",
       "      <th>3</th>\n",
       "      <td>10.1103/PhysRevA.100.010302</td>\n",
       "      <td>2019-07-31</td>\n",
       "    </tr>\n",
       "    <tr>\n",
       "      <th>4</th>\n",
       "      <td>10.1103/PhysRevA.100.010501</td>\n",
       "      <td>2019-07-11</td>\n",
       "    </tr>\n",
       "  </tbody>\n",
       "</table>\n",
       "</div>"
      ],
      "text/plain": [
       "                            id        year\n",
       "0  10.1103/PhysRevA.100.010101  2019-07-11\n",
       "1  10.1103/PhysRevA.100.010102  2019-07-26\n",
       "2  10.1103/PhysRevA.100.010301  2019-07-22\n",
       "3  10.1103/PhysRevA.100.010302  2019-07-31\n",
       "4  10.1103/PhysRevA.100.010501  2019-07-11"
      ]
     },
     "execution_count": 6,
     "metadata": {},
     "output_type": "execute_result"
    }
   ],
   "source": [
    "df_ID_year=pd.read_csv(\"aps-id-year.csv\", index_col=0)\n",
    "df_ID_year.head()"
   ]
  },
  {
   "cell_type": "markdown",
   "metadata": {},
   "source": [
    "### 2. データ処理"
   ]
  },
  {
   "cell_type": "markdown",
   "metadata": {},
   "source": [
    "###  PRBで1980年に投稿された全論文の引用推移データフレームを作成 ###"
   ]
  },
  {
   "cell_type": "code",
   "execution_count": 7,
   "metadata": {
    "scrolled": true
   },
   "outputs": [
    {
     "data": {
      "text/plain": [
       "1415"
      ]
     },
     "execution_count": 7,
     "metadata": {},
     "output_type": "execute_result"
    }
   ],
   "source": [
    "#まずデータ②のPRBフォルダから1980に投稿され論文リストを作成する。\n",
    "volumes=list(range(1, 103, 1)) #フォルダが1～102まであるため手動で設定\n",
    "papers_PRB_1980=[]\n",
    "\n",
    "for volume in volumes:\n",
    "    files = glob.glob(\"aps_data/aps-dataset-metadata-2020/PRB/\"+str(volume)+\"/*\")#PRBのフォルダリスト\n",
    "    for file in files:\n",
    "        json_open = open(file, \"r\",encoding=\"utf-8\")\n",
    "        json_load = json.load(json_open)\n",
    "        tdatetime = dt.strptime(json_load[\"date\"], '%Y-%m-%d')\n",
    "        \n",
    "        if dt(1980, 1, 1) <= tdatetime <=  dt(1980, 12, 31):\n",
    "            papers_PRB_1980.append(json_load[\"id\"])\n",
    "            #print(json_load[\"id\"])\n",
    "len(papers_PRB_1980)"
   ]
  },
  {
   "cell_type": "code",
   "execution_count": 8,
   "metadata": {},
   "outputs": [],
   "source": [
    "#paper_PRB_1980を引用した論文リスト(多重)を作成する(データ①を用いて)\n",
    "citing_year_lis=[]\n",
    "cited_sum=0\n",
    "\n",
    "for paper in papers_PRB_1980:\n",
    "    df_PRB_1980=df_citation[df_citation['cited_doi']==paper] #データ①から被引用論文を抽出\n",
    "    #import pdb; pdb.set_trace()\n",
    "    df_PRB_1980_citing=df_PRB_1980[df_PRB_1980[\"citing_doi\"].str.contains(\"PhysRevB\")] #PRBからの引用に絞る\n",
    "                \n",
    "    if len(df_PRB_1980_citing) != 0:#何かしらPRB同士の引用がある場合\n",
    "        cited_sum+=1\n",
    "        for i in df_PRB_1980_citing[\"citing_doi\"].values.tolist():\n",
    "            year=df_ID_year[df_ID_year['id']==i][\"year\"].values.tolist()#引用した論文の投稿年をデータ③(2003年まで)で調べる\n",
    "            if len(year) !=0:#2020年までの引用がある場合\n",
    "                citing_year_lis.append(year[0])\n",
    "            else:#2021年の論文は提供されたメタデータにそもそもない。\n",
    "                #print(i+\"はデータ③に含まれませんでした\")\n",
    "                pass"
   ]
  },
  {
   "cell_type": "code",
   "execution_count": 10,
   "metadata": {},
   "outputs": [],
   "source": [
    "df_date=pd.DataFrame({\"year\": pd.date_range(start='01/01/1980', end='12/31/2020', freq='D')})#出版日から日ごとの日\n",
    "df_date[\"cited_count\"]=0#0の列を追加\n",
    "df_date=df_date.set_index(\"year\")#インデックスが年月日 、\"count\"列がすべての0のdfが完成\n",
    "\n",
    "for date in citing_year_lis:\n",
    "    count=df_date.loc[date][\"cited_count\"]#[first_citation]#引用された時刻のcount列を抽出\n",
    "    df_date.loc[date][\"cited_count\"]=count+1\n",
    "df_date_all=df_date.resample(\"6MS\").sum()/cited_sum#ここで初めて半期ごとにリサンプリング(合計を計測)"
   ]
  },
  {
   "cell_type": "code",
   "execution_count": 11,
   "metadata": {},
   "outputs": [
    {
     "data": {
      "text/html": [
       "<div>\n",
       "<style scoped>\n",
       "    .dataframe tbody tr th:only-of-type {\n",
       "        vertical-align: middle;\n",
       "    }\n",
       "\n",
       "    .dataframe tbody tr th {\n",
       "        vertical-align: top;\n",
       "    }\n",
       "\n",
       "    .dataframe thead th {\n",
       "        text-align: right;\n",
       "    }\n",
       "</style>\n",
       "<table border=\"1\" class=\"dataframe\">\n",
       "  <thead>\n",
       "    <tr style=\"text-align: right;\">\n",
       "      <th></th>\n",
       "      <th>cited_count</th>\n",
       "    </tr>\n",
       "    <tr>\n",
       "      <th>year</th>\n",
       "      <th></th>\n",
       "    </tr>\n",
       "  </thead>\n",
       "  <tbody>\n",
       "    <tr>\n",
       "      <th>1980-01-01</th>\n",
       "      <td>0.055465</td>\n",
       "    </tr>\n",
       "    <tr>\n",
       "      <th>1980-07-01</th>\n",
       "      <td>0.167210</td>\n",
       "    </tr>\n",
       "    <tr>\n",
       "      <th>1981-01-01</th>\n",
       "      <td>0.369494</td>\n",
       "    </tr>\n",
       "    <tr>\n",
       "      <th>1981-07-01</th>\n",
       "      <td>0.553834</td>\n",
       "    </tr>\n",
       "    <tr>\n",
       "      <th>1982-01-01</th>\n",
       "      <td>0.553018</td>\n",
       "    </tr>\n",
       "  </tbody>\n",
       "</table>\n",
       "</div>"
      ],
      "text/plain": [
       "            cited_count\n",
       "year                   \n",
       "1980-01-01     0.055465\n",
       "1980-07-01     0.167210\n",
       "1981-01-01     0.369494\n",
       "1981-07-01     0.553834\n",
       "1982-01-01     0.553018"
      ]
     },
     "execution_count": 11,
     "metadata": {},
     "output_type": "execute_result"
    }
   ],
   "source": [
    "df_date_all.head()"
   ]
  },
  {
   "cell_type": "markdown",
   "metadata": {},
   "source": [
    "### 引用に重みをつける前処理 ###"
   ]
  },
  {
   "cell_type": "code",
   "execution_count": 12,
   "metadata": {},
   "outputs": [
    {
     "data": {
      "text/plain": [
       "197564"
      ]
     },
     "execution_count": 12,
     "metadata": {},
     "output_type": "execute_result"
    }
   ],
   "source": [
    "#まずPRBが6か月ごとに発行する論文数の推移を見る。\n",
    "volumes=list(range(1, 103, 1)) #フォルダが1～125まであるため手動で設定\n",
    "papers_PRB=[]\n",
    "\n",
    "for volume in volumes:\n",
    "    \n",
    "    files = glob.glob(\"aps_data/aps-dataset-metadata-2020/PRB/\"+str(volume)+\"/*\")#PRBのフォルダリスト\n",
    "    \n",
    "    for file in files:\n",
    "        json_open = open(file, \"r\",encoding=\"utf-8\")\n",
    "        json_load = json.load(json_open)\n",
    "        papers_PRB.append(json_load[\"id\"])\n",
    "        #print(json_load[\"id\"])\n",
    "len(papers_PRB)#PRBに投稿されたすべての論文リスト"
   ]
  },
  {
   "cell_type": "code",
   "execution_count": 13,
   "metadata": {},
   "outputs": [
    {
     "data": {
      "text/html": [
       "<div>\n",
       "<style scoped>\n",
       "    .dataframe tbody tr th:only-of-type {\n",
       "        vertical-align: middle;\n",
       "    }\n",
       "\n",
       "    .dataframe tbody tr th {\n",
       "        vertical-align: top;\n",
       "    }\n",
       "\n",
       "    .dataframe thead th {\n",
       "        text-align: right;\n",
       "    }\n",
       "</style>\n",
       "<table border=\"1\" class=\"dataframe\">\n",
       "  <thead>\n",
       "    <tr style=\"text-align: right;\">\n",
       "      <th></th>\n",
       "      <th>PRB_count</th>\n",
       "    </tr>\n",
       "    <tr>\n",
       "      <th>year</th>\n",
       "      <th></th>\n",
       "    </tr>\n",
       "  </thead>\n",
       "  <tbody>\n",
       "    <tr>\n",
       "      <th>1980-01-01</th>\n",
       "      <td>1.000000</td>\n",
       "    </tr>\n",
       "    <tr>\n",
       "      <th>1980-07-01</th>\n",
       "      <td>0.886667</td>\n",
       "    </tr>\n",
       "    <tr>\n",
       "      <th>1981-01-01</th>\n",
       "      <td>0.814951</td>\n",
       "    </tr>\n",
       "    <tr>\n",
       "      <th>1981-07-01</th>\n",
       "      <td>0.715054</td>\n",
       "    </tr>\n",
       "    <tr>\n",
       "      <th>1982-01-01</th>\n",
       "      <td>0.710470</td>\n",
       "    </tr>\n",
       "  </tbody>\n",
       "</table>\n",
       "</div>"
      ],
      "text/plain": [
       "            PRB_count\n",
       "year                 \n",
       "1980-01-01   1.000000\n",
       "1980-07-01   0.886667\n",
       "1981-01-01   0.814951\n",
       "1981-07-01   0.715054\n",
       "1982-01-01   0.710470"
      ]
     },
     "execution_count": 13,
     "metadata": {},
     "output_type": "execute_result"
    }
   ],
   "source": [
    "#インフレのデータフレームを作成\n",
    "\n",
    "df_PRB=df_ID_year[df_ID_year[\"id\"].isin(papers_PRB)]\n",
    "\n",
    "df_I=pd.DataFrame({\"year\": pd.date_range(start='01/01/1980', end='12/31/2020', freq='D')})#出版日から日ごとの日\n",
    "df_I[\"PRB_count\"]=0#0の列を追加\n",
    "df_I=df_I.set_index(\"year\")#インデックスが年月日 、\"count\"列がすべての0のdfが完成\n",
    "\n",
    "for date in df_PRB[\"year\"].values.tolist():\n",
    "    count=df_I.loc[date][\"PRB_count\"]\n",
    "    df_I.loc[date][\"PRB_count\"]=count+1\n",
    "df_1980_all=df_I.resample(\"6MS\").sum()\n",
    "df_Inf=df_1980_all[\"PRB_count\"].values.tolist()[0]/df_1980_all\n",
    "df_Inf.head()"
   ]
  },
  {
   "cell_type": "code",
   "execution_count": 14,
   "metadata": {},
   "outputs": [
    {
     "data": {
      "text/plain": [
       "year\n",
       "1980-01-01    0.055465\n",
       "1980-07-01    0.148260\n",
       "1981-01-01    0.301120\n",
       "1981-07-01    0.396021\n",
       "1982-01-01    0.392903\n",
       "                ...   \n",
       "2018-07-01    0.015731\n",
       "2019-01-01    0.019017\n",
       "2019-07-01    0.021267\n",
       "2020-01-01    0.020246\n",
       "2020-07-01    0.020051\n",
       "Freq: 6MS, Length: 82, dtype: float64"
      ]
     },
     "execution_count": 14,
     "metadata": {},
     "output_type": "execute_result"
    }
   ],
   "source": [
    "df_analysis=df_date_all[\"cited_count\"]*df_Inf[\"PRB_count\"]\n",
    "df_analysis"
   ]
  },
  {
   "cell_type": "markdown",
   "metadata": {},
   "source": [
    "### 減衰曲線を描く＆fitting ###"
   ]
  },
  {
   "cell_type": "code",
   "execution_count": 15,
   "metadata": {},
   "outputs": [],
   "source": [
    "import matplotlib.pyplot as plt\n",
    "import scipy.optimize as optimize\n",
    "import numpy as np\n",
    "import sklearn.metrics as metrics\n",
    "import scipy.stats"
   ]
  },
  {
   "cell_type": "code",
   "execution_count": 16,
   "metadata": {},
   "outputs": [
    {
     "data": {
      "image/png": "[encoded data removed]",
      "text/plain": [
       "<Figure size 432x288 with 1 Axes>"
      ]
     },
     "metadata": {
      "needs_background": "light"
     },
     "output_type": "display_data"
    }
   ],
   "source": [
    "fig=plt.figure()\n",
    "\n",
    "#プロットしたy軸とx軸を定義\n",
    "y=df_analysis.values.tolist()\n",
    "x=list(range(1980, 1980+len(y), 1))\n",
    "\n",
    "x_new=[]\n",
    "for i in x:\n",
    "    x_new.append(1980+(i-1980)/2)\n",
    "\n",
    "#対数プロットの場合\n",
    "#plt.xscale('log')\n",
    "#plt.yscale('log')\n",
    "\n",
    "#範囲を指定\n",
    "#plt.xlim(0.8, 100)\n",
    "#plt.ylim(0.005, 2)\n",
    "\n",
    "#グラフの種類\n",
    "plt.scatter(x_new, y, s=5, c=\"black\")\n",
    "\n",
    "#ラベル\n",
    "plt.xlabel(\"year\")\n",
    "plt.ylabel(\"Average number of new citations\")\n",
    "\n",
    "#グラフの保存\n",
    "#fig.savefig(\"\")\n",
    "\n",
    "#グラフ描画\n",
    "plt.show()"
   ]
  },
  {
   "cell_type": "code",
   "execution_count": 22,
   "metadata": {},
   "outputs": [
    {
     "name": "stderr",
     "output_type": "stream",
     "text": [
      "<ipython-input-22-9fb59a6dcd06>:16: RuntimeWarning: overflow encountered in exp\n",
      "  return (N/(p+r-q)) * ((p-q)*np.exp(-(p+r)*x) + r*np.exp(-q*x))\n"
     ]
    },
    {
     "data": {
      "image/png": "[encoded data removed]",
      "text/plain": [
       "<Figure size 432x288 with 1 Axes>"
      ]
     },
     "metadata": {
      "needs_background": "light"
     },
     "output_type": "display_data"
    },
    {
     "data": {
      "image/png": "[encoded data removed]",
      "text/plain": [
       "<Figure size 432x288 with 1 Axes>"
      ]
     },
     "metadata": {
      "needs_background": "light"
     },
     "output_type": "display_data"
    },
    {
     "data": {
      "image/png": "[encoded data removed]",
      "text/plain": [
       "<Figure size 432x288 with 1 Axes>"
      ]
     },
     "metadata": {
      "needs_background": "light"
     },
     "output_type": "display_data"
    },
    {
     "data": {
      "image/png": "[encoded data removed]",
      "text/plain": [
       "<Figure size 432x288 with 1 Axes>"
      ]
     },
     "metadata": {
      "needs_background": "light"
     },
     "output_type": "display_data"
    }
   ],
   "source": [
    "# 近似させる関数の定義\n",
    "def beki(x, A, alpha):\n",
    "    return A * x**(-alpha)\n",
    "\n",
    "def exp(x, B, beta):\n",
    "    return B * np.exp(-beta*x)\n",
    "\n",
    "def taisu(x, sigma, m):\n",
    "    pai=1/((2*np.pi)**0.5)\n",
    "    first=1/(pai*sigma*x)\n",
    "    second=(np.log(x)-m)**2\n",
    "    third=2*(sigma**2)\n",
    "    return first*np.exp(-second/third)\n",
    "\n",
    "def soshisu(x, N, p, r, q):\n",
    "    return (N/(p+r-q)) * ((p-q)*np.exp(-(p+r)*x) + r*np.exp(-q*x))\n",
    "\n",
    "\n",
    "# 分析対象を定義\n",
    "y_analysis=df_analysis.drop(df_analysis.index[[0,1,2]])#y(分析対象)(0~3行目を除いてる)\n",
    "arr_1d = np.array(y_analysis.values.tolist())\n",
    "x_analysis = np.linspace(1,len(arr_1d),len(arr_1d))#x(分析対象)\n",
    "\n",
    "\n",
    "# 近似関数を求める\n",
    "popt_beki, _ = optimize.curve_fit(beki, x_analysis, y_analysis)\n",
    "popt_exp, _ = optimize.curve_fit(exp, x_analysis, y_analysis)\n",
    "popt_taisu, _ = optimize.curve_fit(taisu, x_analysis, y_analysis)\n",
    "popt_soshisu, _ = optimize.curve_fit(soshisu, x_analysis, y_analysis)\n",
    "\n",
    "\n",
    "#べき\n",
    "title = \"bei_fitting_1980citations\"\n",
    "fig = plt.figure()\n",
    "plt.scatter(x_analysis,y_analysis,marker='.',s=20, c=\"black\")\n",
    "plt.plot(x_analysis,beki(x_analysis,popt_beki[0],popt_beki[1]))\n",
    "plt.xscale('log')\n",
    "plt.yscale('log')\n",
    "plt.xlabel(\"year\",size=12)\n",
    "plt.ylabel(\"count\",size=12)\n",
    "plt.ylim(0.01, 10)\n",
    "plt.tick_params(axis='y', which='major', labelsize=10)\n",
    "plt.tick_params(axis='x', which='major', labelsize=7)\n",
    "#fig.savefig(\"\")\n",
    "plt.ylim(0.01,1)\n",
    "plt.show()\n",
    "\n",
    "\n",
    "#指数\n",
    "title = \"exp_fitting_1980citations\"\n",
    "fig=plt.figure()\n",
    "plt.scatter(x_analysis,y_analysis,marker='.',s=20, c=\"black\")\n",
    "plt.plot(x_analysis,exp(x_analysis,popt_exp[0],popt_exp[1]))\n",
    "plt.xscale('log')\n",
    "plt.yscale('log')\n",
    "plt.xlabel(\"year\",size=12)\n",
    "plt.ylabel(\"count\",size=12)\n",
    "plt.ylim(0.01, 10)\n",
    "plt.tick_params(axis='y', which='major', labelsize=10)\n",
    "plt.tick_params(axis='x', which='major', labelsize=7)\n",
    "#fig.savefig(\"\")\n",
    "plt.ylim(0.01,1)\n",
    "plt.show()\n",
    "\n",
    "\"\"\"\n",
    "#対数正規\n",
    "title = \"taisuseiki_fitting_1980citations\"\n",
    "fig=plt.figure()\n",
    "plt.scatter(x_analysis,y_analysis,marker='.',s=20, c=\"black\")\n",
    "plt.plot(x_analysis,taisu(x_analysis,popt_taisu[0],popt_taisu[1]))\n",
    "plt.xscale('log')\n",
    "plt.yscale('log')\n",
    "plt.xlabel(\"t(month)\",size=12)\n",
    "plt.ylabel(\"count\",size=12)\n",
    "plt.tick_params(axis='y', which='major', labelsize=10)\n",
    "plt.tick_params(axis='x', which='major', labelsize=7)\n",
    "fig.savefig(\"\")\n",
    "plt.show()\n",
    "\"\"\"\n",
    "\n",
    "#双指数\n",
    "title = \"biexp_fitting_1980citations\"\n",
    "fig=plt.figure()\n",
    "plt.scatter(x_analysis,y_analysis,marker='.',s=20, c=\"black\")\n",
    "plt.plot(x_analysis,soshisu(x_analysis,popt_soshisu[0],popt_soshisu[1],popt_soshisu[2],popt_soshisu[3])\n",
    "        ,linestyle = \"solid\", label = \"Biexponental\", color = \"red\", alpha = 0.6, linewidth = 3)\n",
    "plt.xscale('log')\n",
    "plt.yscale('log')\n",
    "plt.xlabel(\"year\",size=12)\n",
    "plt.ylabel(\"count\",size=12)\n",
    "plt.ylim(0.0004, 0.8)\n",
    "plt.tick_params(axis='y', which='major', labelsize=10)\n",
    "plt.tick_params(axis='x', which='major', labelsize=7)\n",
    "plt.ylim(0.01,1)\n",
    "#fig.savefig(\"\")\n",
    "plt.show()\n",
    "\n",
    "#まとめて(発表用)\n",
    "title = \"PRB1980citations_all_fitting\"\n",
    "fig=plt.figure()\n",
    "plt.scatter(x_analysis,y_analysis,marker='.',s=15, c=\"black\")\n",
    "plt.plot(x_analysis,beki(x_analysis,popt_beki[0],popt_beki[1]),linestyle = \"dashdot\", label = \"power\", color = \"black\",alpha = 0.6)\n",
    "plt.plot(x_analysis,exp(x_analysis,popt_exp[0],popt_exp[1]),linestyle = \"dashed\", label = \"Exponential\", color = \"black\",alpha = 0.6)\n",
    "plt.plot(x_analysis,soshisu(x_analysis,popt_soshisu[0],popt_soshisu[1],popt_soshisu[2],popt_soshisu[3])\n",
    "        ,linestyle = \"solid\", label = \"Biexponental\", color = \"red\", alpha = 0.6, linewidth = 3)\n",
    "plt.legend(bbox_to_anchor=(0.1, 0.1), loc='lower left', borderaxespad=0.5, fontsize=12)\n",
    "plt.xscale('log')\n",
    "plt.yscale('log')\n",
    "plt.xlabel(\"Age(semi annual)\",size=12)\n",
    "plt.ylabel(\"Average number of new citations\",size=12)\n",
    "#fig.savefig(\"\")\n",
    "plt.ylim(0.01,1)\n",
    "plt.show()"
   ]
  },
  {
   "cell_type": "code",
   "execution_count": 23,
   "metadata": {},
   "outputs": [],
   "source": [
    "r_beki = metrics.r2_score(y_analysis, beki(x_analysis, *popt_beki))#べきの決定係数(R2)を求める\n",
    "r_exp = metrics.r2_score(y_analysis, exp(x_analysis, *popt_exp))#指数の決定係数(R2)を求める\n",
    "r_taisu = metrics.r2_score(y_analysis, taisu(x_analysis, *popt_taisu))#対数正規の決定係数(R2)を求める\n",
    "r_soshisu = metrics.r2_score(y_analysis, soshisu(x_analysis, *popt_soshisu))#対数正規の決定係数(R2)を求める"
   ]
  },
  {
   "cell_type": "code",
   "execution_count": 24,
   "metadata": {},
   "outputs": [
    {
     "name": "stdout",
     "output_type": "stream",
     "text": [
      "0.8482244908527621 0.9713996957519404 0.9954691719998425\n"
     ]
    }
   ],
   "source": [
    "print(r_beki,r_exp,r_soshisu)"
   ]
  },
  {
   "cell_type": "code",
   "execution_count": 25,
   "metadata": {},
   "outputs": [
    {
     "name": "stdout",
     "output_type": "stream",
     "text": [
      "0.4686782199316096 0.10434498435526014 0.007015972662841814 0.007647425564652589\n"
     ]
    }
   ],
   "source": [
    "print(popt_soshisu[0],popt_soshisu[1],popt_soshisu[2],popt_soshisu[3])"
   ]
  },
  {
   "cell_type": "code",
   "execution_count": null,
   "metadata": {},
   "outputs": [],
   "source": []
  },
  {
   "cell_type": "code",
   "execution_count": null,
   "metadata": {},
   "outputs": [],
   "source": []
  },
  {
   "cell_type": "code",
   "execution_count": null,
   "metadata": {},
   "outputs": [],
   "source": []
  },
  {
   "cell_type": "code",
   "execution_count": null,
   "metadata": {},
   "outputs": [],
   "source": []
  },
  {
   "cell_type": "markdown",
   "metadata": {},
   "source": [
    "### 前処理の下書き ###"
   ]
  },
  {
   "cell_type": "code",
   "execution_count": 26,
   "metadata": {},
   "outputs": [
    {
     "data": {
      "text/plain": [
       "129116"
      ]
     },
     "execution_count": 26,
     "metadata": {},
     "output_type": "execute_result"
    }
   ],
   "source": [
    "#まずPRLが6か月ごとに発行する論文数の推移を見る(UDLの補足資料の再現)。\n",
    "\n",
    "\n",
    "volumes=list(range(1, 126, 1)) #フォルダが1～125まであるため手動で設定\n",
    "papers_PRL=[]\n",
    "\n",
    "for volume in volumes:\n",
    "    \n",
    "    files = glob.glob(\"aps_data/aps-dataset-metadata-2020/PRL/\"+str(volume)+\"/*\")#PRBのフォルダリスト\n",
    "    \n",
    "    for file in files:\n",
    "        json_open = open(file, \"r\",encoding=\"utf-8\")\n",
    "        json_load = json.load(json_open)\n",
    "        papers_PRL.append(json_load[\"id\"])\n",
    "        #print(json_load[\"id\"])\n",
    "len(papers_PRL)"
   ]
  },
  {
   "cell_type": "code",
   "execution_count": 27,
   "metadata": {},
   "outputs": [
    {
     "data": {
      "text/html": [
       "<div>\n",
       "<style scoped>\n",
       "    .dataframe tbody tr th:only-of-type {\n",
       "        vertical-align: middle;\n",
       "    }\n",
       "\n",
       "    .dataframe tbody tr th {\n",
       "        vertical-align: top;\n",
       "    }\n",
       "\n",
       "    .dataframe thead th {\n",
       "        text-align: right;\n",
       "    }\n",
       "</style>\n",
       "<table border=\"1\" class=\"dataframe\">\n",
       "  <thead>\n",
       "    <tr style=\"text-align: right;\">\n",
       "      <th></th>\n",
       "      <th>count</th>\n",
       "    </tr>\n",
       "    <tr>\n",
       "      <th>year</th>\n",
       "      <th></th>\n",
       "    </tr>\n",
       "  </thead>\n",
       "  <tbody>\n",
       "    <tr>\n",
       "      <th>1980-01-01</th>\n",
       "      <td>555</td>\n",
       "    </tr>\n",
       "    <tr>\n",
       "      <th>1980-07-01</th>\n",
       "      <td>647</td>\n",
       "    </tr>\n",
       "    <tr>\n",
       "      <th>1981-01-01</th>\n",
       "      <td>515</td>\n",
       "    </tr>\n",
       "    <tr>\n",
       "      <th>1981-07-01</th>\n",
       "      <td>580</td>\n",
       "    </tr>\n",
       "    <tr>\n",
       "      <th>1982-01-01</th>\n",
       "      <td>579</td>\n",
       "    </tr>\n",
       "  </tbody>\n",
       "</table>\n",
       "</div>"
      ],
      "text/plain": [
       "            count\n",
       "year             \n",
       "1980-01-01    555\n",
       "1980-07-01    647\n",
       "1981-01-01    515\n",
       "1981-07-01    580\n",
       "1982-01-01    579"
      ]
     },
     "execution_count": 27,
     "metadata": {},
     "output_type": "execute_result"
    }
   ],
   "source": [
    "#得られた論文リストについて、投稿年月日を半年ごとにカウントするdfを作成\n",
    "df_PRL=df_ID_year[df_ID_year[\"id\"].isin(papers_PRL)]\n",
    "df_PRL=df_PRL.assign(count = [1] * len(df_PRL))#1の列を追加\n",
    "df_PRL[\"year\"] = pd.to_datetime(df_PRL[\"year\"])\n",
    "df_new = df_PRL.set_index('year')\n",
    "df_new=df_new.drop(columns='id')\n",
    "df_analysis=df_new.resample(rule=\"6MS\").sum()\n",
    "df_analysis.head()"
   ]
  },
  {
   "cell_type": "code",
   "execution_count": 28,
   "metadata": {},
   "outputs": [
    {
     "data": {
      "image/png": "[encoded data removed]",
      "text/plain": [
       "<Figure size 432x216 with 1 Axes>"
      ]
     },
     "metadata": {
      "needs_background": "light"
     },
     "output_type": "display_data"
    }
   ],
   "source": [
    "y=df_analysis[\"count\"]#y(分析対象)\n",
    "x=df_analysis.index#x(分析対象)\n",
    "plt.figure(figsize=(6,3))\n",
    "plt.scatter(x, y, s=5, c=\"black\")\n",
    "plt.xlabel('Year')\n",
    "plt.ylabel('Number of Papers')\n",
    "plt.ylim(100, 2200)\n",
    "plt.grid(linewidth=0.2)\n",
    "\n",
    "plt.gca().spines['right'].set_visible(False)\n",
    "plt.gca().spines['top'].set_visible(False)\n",
    "\n",
    "plt.show()"
   ]
  },
  {
   "cell_type": "code",
   "execution_count": 29,
   "metadata": {},
   "outputs": [
    {
     "data": {
      "image/png": "[encoded data removed]",
      "text/plain": [
       "<Figure size 432x216 with 1 Axes>"
      ]
     },
     "metadata": {
      "needs_background": "light"
     },
     "output_type": "display_data"
    }
   ],
   "source": [
    "df_analysis[\"Inflation\"]=df_analysis.loc['2000-01-01'][0]/df_analysis[\"count\"]\n",
    "\n",
    "\n",
    "y=df_analysis[\"Inflation\"]#y(分析対象)\n",
    "x=df_analysis.index#x(分析対象)\n",
    "plt.figure(figsize=(6,3))\n",
    "plt.scatter(x, y, s=5, c=\"black\")\n",
    "plt.xlabel('Time')\n",
    "plt.ylabel('Inflation Rate')\n",
    "#plt.ylim(100, 2200)\n",
    "#plt.grid(linewidth=0.2)\n",
    "\n",
    "plt.gca().spines['right'].set_visible(False)\n",
    "plt.gca().spines['top'].set_visible(False)\n",
    "\n",
    "plt.show()"
   ]
  },
  {
   "cell_type": "code",
   "execution_count": 30,
   "metadata": {},
   "outputs": [
    {
     "data": {
      "text/html": [
       "<div>\n",
       "<style scoped>\n",
       "    .dataframe tbody tr th:only-of-type {\n",
       "        vertical-align: middle;\n",
       "    }\n",
       "\n",
       "    .dataframe tbody tr th {\n",
       "        vertical-align: top;\n",
       "    }\n",
       "\n",
       "    .dataframe thead th {\n",
       "        text-align: right;\n",
       "    }\n",
       "</style>\n",
       "<table border=\"1\" class=\"dataframe\">\n",
       "  <thead>\n",
       "    <tr style=\"text-align: right;\">\n",
       "      <th></th>\n",
       "      <th>count</th>\n",
       "      <th>Inflation</th>\n",
       "    </tr>\n",
       "    <tr>\n",
       "      <th>year</th>\n",
       "      <th></th>\n",
       "      <th></th>\n",
       "    </tr>\n",
       "  </thead>\n",
       "  <tbody>\n",
       "    <tr>\n",
       "      <th>1980-01-01</th>\n",
       "      <td>555</td>\n",
       "      <td>2.913514</td>\n",
       "    </tr>\n",
       "    <tr>\n",
       "      <th>1980-07-01</th>\n",
       "      <td>647</td>\n",
       "      <td>2.499227</td>\n",
       "    </tr>\n",
       "    <tr>\n",
       "      <th>1981-01-01</th>\n",
       "      <td>515</td>\n",
       "      <td>3.139806</td>\n",
       "    </tr>\n",
       "    <tr>\n",
       "      <th>1981-07-01</th>\n",
       "      <td>580</td>\n",
       "      <td>2.787931</td>\n",
       "    </tr>\n",
       "    <tr>\n",
       "      <th>1982-01-01</th>\n",
       "      <td>579</td>\n",
       "      <td>2.792746</td>\n",
       "    </tr>\n",
       "  </tbody>\n",
       "</table>\n",
       "</div>"
      ],
      "text/plain": [
       "            count  Inflation\n",
       "year                        \n",
       "1980-01-01    555   2.913514\n",
       "1980-07-01    647   2.499227\n",
       "1981-01-01    515   3.139806\n",
       "1981-07-01    580   2.787931\n",
       "1982-01-01    579   2.792746"
      ]
     },
     "execution_count": 30,
     "metadata": {},
     "output_type": "execute_result"
    }
   ],
   "source": [
    "df_analysis.head()"
   ]
  },
  {
   "cell_type": "code",
   "execution_count": null,
   "metadata": {},
   "outputs": [],
   "source": []
  },
  {
   "cell_type": "code",
   "execution_count": null,
   "metadata": {},
   "outputs": [],
   "source": []
  },
  {
   "cell_type": "code",
   "execution_count": null,
   "metadata": {},
   "outputs": [],
   "source": []
  },
  {
   "cell_type": "code",
   "execution_count": null,
   "metadata": {},
   "outputs": [],
   "source": []
  },
  {
   "cell_type": "code",
   "execution_count": null,
   "metadata": {},
   "outputs": [],
   "source": []
  }
 ],
 "metadata": {
  "kernelspec": {
   "display_name": "Python 3",
   "language": "python",
   "name": "python3"
  },
  "language_info": {
   "codemirror_mode": {
    "name": "ipython",
    "version": 3
   },
   "file_extension": ".py",
   "mimetype": "text/x-python",
   "name": "python",
   "nbconvert_exporter": "python",
   "pygments_lexer": "ipython3",
   "version": "3.8.5"
  }
 },
 "nbformat": 4,
 "nbformat_minor": 4
}
